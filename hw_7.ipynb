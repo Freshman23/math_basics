{
 "cells": [
  {
   "cell_type": "markdown",
   "id": "ef9645a0",
   "metadata": {},
   "source": [
    "### Задание №1.\n",
    "Вычислите, по возможности не используя программирование: $(5E)^{-1}$, где $Е$ – единичная матрица размера 5х5.\n",
    "\n",
    "__Решение:__   \n",
    "Воспользуемся свойствами единичной и обратной матриц.   \n",
    "Так как $A\\cdot A^{-1}=E$, то также будет справедливо и выражение: $E\\cdot E^{-1}=E$.   \n",
    "Также из свойства: $A\\cdot E=A$, явно будет справедливо и: $E\\cdot E=E$.   \n",
    "Тогда объединив два равенства, получим: $E\\cdot E^{-1}=E\\cdot E$.   \n",
    "Сократим первые множители: $E^{-1}=E$.\n",
    "\n",
    "Касаясь нашего выражения:   \n",
    "$(5E)^{-1}=5^{-1}\\cdot E^{-1}=\\frac{1}{5}E$\n",
    "\n",
    "__Ответ:__ $\\frac{1}{5}E$\n",
    "___"
   ]
  },
  {
   "cell_type": "markdown",
   "id": "b23b0403",
   "metadata": {},
   "source": [
    "### Задание №2.\n",
    "$\\displaystyle \\begin{vmatrix}1&2&3\\\\4&0&6\\\\7&8&9\\end{vmatrix} = 2\\cdot2\\cdot3\\cdot\\begin{vmatrix}1&1&1\\\\2&0&1\\\\7&4&3\\end{vmatrix} = 12\\cdot\\Big(-2\\cdot(1\\cdot3-1\\cdot4)-1\\cdot(1\\cdot4-1\\cdot7)\\Big) = 60$\n",
    "___"
   ]
  },
  {
   "cell_type": "markdown",
   "id": "3e5247bc",
   "metadata": {},
   "source": [
    "### Задание №3.\n",
    "1. Вычислите матрицу, обратную данной:   \n",
    "   $\\displaystyle A=\\begin{pmatrix}1&2&3\\\\4&0&6\\\\7&8&9\\end{pmatrix}$ \n",
    "   \n",
    "   __Решение:__   \n",
    "   Из прошлого задания нам известен определитель матрицы $A$:   \n",
    "   $\\det A=60$\n",
    "   \n",
    "   Теперь найдем матрицу алгебратческих дополнений:   \n",
    "   $A_{11}=0\\cdot9-8\\cdot6=-48\\,\\,\\,\\,\\,\\,A_{12}=-(4\\cdot9-7\\cdot6)=6\\,\\,\\,\\,\\,\\,A_{13}=4\\cdot8-7\\cdot0=32$   \n",
    "   $A_{21}=-(2\\cdot9-8\\cdot3)=6\\,\\,\\,\\,\\,\\,A_{22}=1\\cdot9-7\\cdot3=-12\\,\\,\\,\\,\\,\\,A_{23}=-(1\\cdot8-7\\cdot2)=6$   \n",
    "   $A_{31}=2\\cdot6-0\\cdot3=12\\,\\,\\,\\,\\,\\,A_{32}=-(1\\cdot6-4\\cdot3)=6\\,\\,\\,\\,\\,\\,A_{33}=1\\cdot0-4\\cdot2=-8$\n",
    "   \n",
    "   $\\displaystyle A_*=\\begin{pmatrix}-48&6&32\\\\6&-12&6\\\\12&6&-8\\end{pmatrix}$\n",
    "   \n",
    "   Транспонируем её:\n",
    "   \n",
    "   $\\displaystyle A_*^T=\\begin{pmatrix}-48&6&12\\\\6&-12&6\\\\32&6&-8\\end{pmatrix}$\n",
    "   \n",
    "   Тогда:\n",
    "   \n",
    "   $\\displaystyle A^{-1}=\\frac{1}{\\det A}\\cdot A_*^T=\\frac{1}{60}\\begin{pmatrix}-48&6&12\\\\6&-12&6\\\\32&6&-8\\end{pmatrix} = \\begin{pmatrix}-0.8&0.1&0.2\\\\0.1&-0.2&0.1\\\\\\frac{8}{15}&0.1&-\\frac{2}{15}\\end{pmatrix}$\n",
    "   \n",
    "   __Ответ:__ $\\begin{pmatrix}-0.8&0.1&0.2\\\\0.1&-0.2&0.1\\\\\\frac{8}{15}&0.1&-\\frac{2}{15}\\end{pmatrix}$\n",
    "\n",
    "\n",
    "2. Приведите пример матрицы 4х4, ранг которой равен 1.\n",
    "   \n",
    "   Например: $\\begin{pmatrix}1&2&3&4\\\\1&2&3&4\\\\1&2&3&4\\\\1&2&3&4\\end{pmatrix}$\n",
    "___"
   ]
  },
  {
   "cell_type": "markdown",
   "id": "49fb6cd8",
   "metadata": {},
   "source": [
    "### Задание №4.\n",
    "Вычислите скалярное произведение двух векторов:  \n",
    "$\\vec{a}=(1, 5)$ и $\\vec{b}=(2, 8)$   \n",
    "$\\vec{a}\\cdot\\vec{b}=1\\cdot2+5\\cdot8=42$\n",
    "\n",
    "__Ответ:__ 42\n",
    "___"
   ]
  },
  {
   "cell_type": "markdown",
   "id": "6b10d80e",
   "metadata": {},
   "source": [
    "### Задание №5.\n",
    "Вычислите смешанное произведение трех векторов:   \n",
    "$\\vec{a}=(1, 5, 0)$, $\\vec{b}=(2, 8, 7)$ и $\\vec{c}=(7, 1.5, 3)$   \n",
    "\n",
    "$\\vec{a}\\times\\vec{b}\\cdot\\vec{c} = \\begin{vmatrix}1&5&0\\\\2&8&7\\\\7&1.5&3\\end{vmatrix}= 1\\cdot8\\cdot3+5\\cdot7\\cdot7-1\\cdot7\\cdot1.5-5\\cdot2\\cdot3=24+245-10.5-30=228.5$\n",
    "\n",
    "__Ответ:__ 228.5"
   ]
  }
 ],
 "metadata": {
  "kernelspec": {
   "display_name": "Python 3",
   "language": "python",
   "name": "python3"
  },
  "language_info": {
   "codemirror_mode": {
    "name": "ipython",
    "version": 3
   },
   "file_extension": ".py",
   "mimetype": "text/x-python",
   "name": "python",
   "nbconvert_exporter": "python",
   "pygments_lexer": "ipython3",
   "version": "3.8.8"
  }
 },
 "nbformat": 4,
 "nbformat_minor": 5
}
